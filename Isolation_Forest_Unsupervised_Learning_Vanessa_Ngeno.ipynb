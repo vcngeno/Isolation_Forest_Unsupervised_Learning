{
  "nbformat": 4,
  "nbformat_minor": 0,
  "metadata": {
    "colab": {
      "provenance": [],
      "authorship_tag": "ABX9TyOfnc8CQ05irux+f+1K3n3m",
      "include_colab_link": true
    },
    "kernelspec": {
      "name": "python3",
      "display_name": "Python 3"
    },
    "language_info": {
      "name": "python"
    }
  },
  "cells": [
    {
      "cell_type": "markdown",
      "metadata": {
        "id": "view-in-github",
        "colab_type": "text"
      },
      "source": [
        "<a href=\"https://colab.research.google.com/github/vcngeno/Isolation_Forest_Unsupervised_Learning/blob/main/Isolation_Forest_Unsupervised_Learning_Vanessa_Ngeno.ipynb\" target=\"_parent\"><img src=\"https://colab.research.google.com/assets/colab-badge.svg\" alt=\"Open In Colab\"/></a>"
      ]
    },
    {
      "cell_type": "markdown",
      "source": [
        "#Feature Engineering"
      ],
      "metadata": {
        "id": "RB9mkxYg2Wj1"
      }
    },
    {
      "cell_type": "code",
      "execution_count": null,
      "metadata": {
        "id": "cH0QSxZxfgTl"
      },
      "outputs": [],
      "source": [
        "import pandas as pd\n",
        "import numpy as np\n",
        "from sklearn.preprocessing import StandardScaler\n",
        "import category_encoders as ce"
      ]
    },
    {
      "cell_type": "code",
      "source": [
        "#Loading the dataset and preview\n",
        "df = pd.read_csv('/content/OP_DTL_OWNRSHP_PGYR2023_P01302025_01212025 5.csv')\n",
        "df.head()"
      ],
      "metadata": {
        "colab": {
          "base_uri": "https://localhost:8080/",
          "height": 325
        },
        "id": "eX42DgdszuO3",
        "outputId": "0bfbc682-fdec-4d7f-8d04-63c36f46119a"
      },
      "execution_count": null,
      "outputs": [
        {
          "output_type": "execute_result",
          "data": {
            "text/plain": [
              "  Change_Type  Physician_Profile_ID  Physician_NPI Physician_First_Name  \\\n",
              "0   UNCHANGED                329721   1.275588e+09                Frank   \n",
              "1   UNCHANGED               4213213   1.952690e+09               Edward   \n",
              "2   UNCHANGED                170314   1.750495e+09                 ERIK   \n",
              "3   UNCHANGED                151386   1.336162e+09                Cindy   \n",
              "4   UNCHANGED                130749   1.871711e+09               Nikhil   \n",
              "\n",
              "  Physician_Middle_Name Physician_Last_Name Physician_Name_Suffix  \\\n",
              "0                     P             Cammisa                    JR   \n",
              "1                   NaN             Shields                   NaN   \n",
              "2                   NaN             THYSSEN                   NaN   \n",
              "3                   NaN               Tobin                   NaN   \n",
              "4                   NaN              Thakur                   NaN   \n",
              "\n",
              "  Recipient_Primary_Business_Street_Address_Line1  \\\n",
              "0                                   523 E 72ND ST   \n",
              "1                                   1400 MERCY DR   \n",
              "2                           11525 Olde Cabin Road   \n",
              "3                           40 Crossways Park Dr.   \n",
              "4                                 575 Turnpike St   \n",
              "\n",
              "  Recipient_Primary_Business_Street_Address_Line2 Recipient_City  ...  \\\n",
              "0                                             NaN       New York  ...   \n",
              "1                                             NaN       Muskegon  ...   \n",
              "2                                             NaN       ST LOUIS  ...   \n",
              "3                                       Suite 101       Woodbury  ...   \n",
              "4                                        Suite 11  North Andover  ...   \n",
              "\n",
              "  Value_of_Interest                                  Terms_of_Interest  \\\n",
              "0          59000.00                                       COMMON STOCK   \n",
              "1           3089.19                                              Stock   \n",
              "2           5709.14                                       Common Stock   \n",
              "3              1.00  Physician holds an indirect ownership interest...   \n",
              "4           7017.40   Restricted Stock Award per consultant agreement.   \n",
              "\n",
              "  Submitting_Applicable_Manufacturer_or_Applicable_GPO_Name  \\\n",
              "0                                         4WEB, INC.          \n",
              "1                              Catalyst OrthoScience          \n",
              "2                                     GastroGPO, LLC          \n",
              "3                     Unified Women's Healthcare, LP          \n",
              "4                        Expanding Innovations, Inc.          \n",
              "\n",
              "   Applicable_Manufacturer_or_Applicable_GPO_Making_Payment_ID  \\\n",
              "0                                       1.000000e+11             \n",
              "1                                       1.000000e+11             \n",
              "2                                       1.000010e+11             \n",
              "3                                       1.000000e+11             \n",
              "4                                       1.000010e+11             \n",
              "\n",
              "   Applicable_Manufacturer_or_Applicable_GPO_Making_Payment_Name  \\\n",
              "0                                         4WEB, INC.               \n",
              "1                              Catalyst OrthoScience               \n",
              "2                                     GastroGPO, LLC               \n",
              "3                     Unified Women's Healthcare, LP               \n",
              "4                        Expanding Innovations, Inc.               \n",
              "\n",
              "  Applicable_Manufacturer_or_Applicable_GPO_Making_Payment_State  \\\n",
              "0                                                 TX               \n",
              "1                                                 FL               \n",
              "2                                                 OH               \n",
              "3                                                 FL               \n",
              "4                                                 CA               \n",
              "\n",
              "  Applicable_Manufacturer_or_Applicable_GPO_Making_Payment_Country  \\\n",
              "0                                      United States                 \n",
              "1                                      United States                 \n",
              "2                                      United States                 \n",
              "3                                      United States                 \n",
              "4                                      United States                 \n",
              "\n",
              "   Dispute_Status_for_Publication  \\\n",
              "0                              No   \n",
              "1                              No   \n",
              "2                              No   \n",
              "3                              No   \n",
              "4                              No   \n",
              "\n",
              "   Interest_Held_by_Physician_or_an_Immediate_Family_Member  \\\n",
              "0                        Physician Covered Recipient          \n",
              "1                        Physician Covered Recipient          \n",
              "2                        Physician Covered Recipient          \n",
              "3                        Physician Covered Recipient          \n",
              "4                        Physician Covered Recipient          \n",
              "\n",
              "   Payment_Publication_Date  \n",
              "0                   1/30/25  \n",
              "1                   1/30/25  \n",
              "2                   1/30/25  \n",
              "3                   1/30/25  \n",
              "4                   1/30/25  \n",
              "\n",
              "[5 rows x 30 columns]"
            ],
            "text/html": [
              "\n",
              "  <div id=\"df-aa5e385d-9bcf-4312-9cda-b24b92e5c6c2\" class=\"colab-df-container\">\n",
              "    <div>\n",
              "<style scoped>\n",
              "    .dataframe tbody tr th:only-of-type {\n",
              "        vertical-align: middle;\n",
              "    }\n",
              "\n",
              "    .dataframe tbody tr th {\n",
              "        vertical-align: top;\n",
              "    }\n",
              "\n",
              "    .dataframe thead th {\n",
              "        text-align: right;\n",
              "    }\n",
              "</style>\n",
              "<table border=\"1\" class=\"dataframe\">\n",
              "  <thead>\n",
              "    <tr style=\"text-align: right;\">\n",
              "      <th></th>\n",
              "      <th>Change_Type</th>\n",
              "      <th>Physician_Profile_ID</th>\n",
              "      <th>Physician_NPI</th>\n",
              "      <th>Physician_First_Name</th>\n",
              "      <th>Physician_Middle_Name</th>\n",
              "      <th>Physician_Last_Name</th>\n",
              "      <th>Physician_Name_Suffix</th>\n",
              "      <th>Recipient_Primary_Business_Street_Address_Line1</th>\n",
              "      <th>Recipient_Primary_Business_Street_Address_Line2</th>\n",
              "      <th>Recipient_City</th>\n",
              "      <th>...</th>\n",
              "      <th>Value_of_Interest</th>\n",
              "      <th>Terms_of_Interest</th>\n",
              "      <th>Submitting_Applicable_Manufacturer_or_Applicable_GPO_Name</th>\n",
              "      <th>Applicable_Manufacturer_or_Applicable_GPO_Making_Payment_ID</th>\n",
              "      <th>Applicable_Manufacturer_or_Applicable_GPO_Making_Payment_Name</th>\n",
              "      <th>Applicable_Manufacturer_or_Applicable_GPO_Making_Payment_State</th>\n",
              "      <th>Applicable_Manufacturer_or_Applicable_GPO_Making_Payment_Country</th>\n",
              "      <th>Dispute_Status_for_Publication</th>\n",
              "      <th>Interest_Held_by_Physician_or_an_Immediate_Family_Member</th>\n",
              "      <th>Payment_Publication_Date</th>\n",
              "    </tr>\n",
              "  </thead>\n",
              "  <tbody>\n",
              "    <tr>\n",
              "      <th>0</th>\n",
              "      <td>UNCHANGED</td>\n",
              "      <td>329721</td>\n",
              "      <td>1.275588e+09</td>\n",
              "      <td>Frank</td>\n",
              "      <td>P</td>\n",
              "      <td>Cammisa</td>\n",
              "      <td>JR</td>\n",
              "      <td>523 E 72ND ST</td>\n",
              "      <td>NaN</td>\n",
              "      <td>New York</td>\n",
              "      <td>...</td>\n",
              "      <td>59000.00</td>\n",
              "      <td>COMMON STOCK</td>\n",
              "      <td>4WEB, INC.</td>\n",
              "      <td>1.000000e+11</td>\n",
              "      <td>4WEB, INC.</td>\n",
              "      <td>TX</td>\n",
              "      <td>United States</td>\n",
              "      <td>No</td>\n",
              "      <td>Physician Covered Recipient</td>\n",
              "      <td>1/30/25</td>\n",
              "    </tr>\n",
              "    <tr>\n",
              "      <th>1</th>\n",
              "      <td>UNCHANGED</td>\n",
              "      <td>4213213</td>\n",
              "      <td>1.952690e+09</td>\n",
              "      <td>Edward</td>\n",
              "      <td>NaN</td>\n",
              "      <td>Shields</td>\n",
              "      <td>NaN</td>\n",
              "      <td>1400 MERCY DR</td>\n",
              "      <td>NaN</td>\n",
              "      <td>Muskegon</td>\n",
              "      <td>...</td>\n",
              "      <td>3089.19</td>\n",
              "      <td>Stock</td>\n",
              "      <td>Catalyst OrthoScience</td>\n",
              "      <td>1.000000e+11</td>\n",
              "      <td>Catalyst OrthoScience</td>\n",
              "      <td>FL</td>\n",
              "      <td>United States</td>\n",
              "      <td>No</td>\n",
              "      <td>Physician Covered Recipient</td>\n",
              "      <td>1/30/25</td>\n",
              "    </tr>\n",
              "    <tr>\n",
              "      <th>2</th>\n",
              "      <td>UNCHANGED</td>\n",
              "      <td>170314</td>\n",
              "      <td>1.750495e+09</td>\n",
              "      <td>ERIK</td>\n",
              "      <td>NaN</td>\n",
              "      <td>THYSSEN</td>\n",
              "      <td>NaN</td>\n",
              "      <td>11525 Olde Cabin Road</td>\n",
              "      <td>NaN</td>\n",
              "      <td>ST LOUIS</td>\n",
              "      <td>...</td>\n",
              "      <td>5709.14</td>\n",
              "      <td>Common Stock</td>\n",
              "      <td>GastroGPO, LLC</td>\n",
              "      <td>1.000010e+11</td>\n",
              "      <td>GastroGPO, LLC</td>\n",
              "      <td>OH</td>\n",
              "      <td>United States</td>\n",
              "      <td>No</td>\n",
              "      <td>Physician Covered Recipient</td>\n",
              "      <td>1/30/25</td>\n",
              "    </tr>\n",
              "    <tr>\n",
              "      <th>3</th>\n",
              "      <td>UNCHANGED</td>\n",
              "      <td>151386</td>\n",
              "      <td>1.336162e+09</td>\n",
              "      <td>Cindy</td>\n",
              "      <td>NaN</td>\n",
              "      <td>Tobin</td>\n",
              "      <td>NaN</td>\n",
              "      <td>40 Crossways Park Dr.</td>\n",
              "      <td>Suite 101</td>\n",
              "      <td>Woodbury</td>\n",
              "      <td>...</td>\n",
              "      <td>1.00</td>\n",
              "      <td>Physician holds an indirect ownership interest...</td>\n",
              "      <td>Unified Women's Healthcare, LP</td>\n",
              "      <td>1.000000e+11</td>\n",
              "      <td>Unified Women's Healthcare, LP</td>\n",
              "      <td>FL</td>\n",
              "      <td>United States</td>\n",
              "      <td>No</td>\n",
              "      <td>Physician Covered Recipient</td>\n",
              "      <td>1/30/25</td>\n",
              "    </tr>\n",
              "    <tr>\n",
              "      <th>4</th>\n",
              "      <td>UNCHANGED</td>\n",
              "      <td>130749</td>\n",
              "      <td>1.871711e+09</td>\n",
              "      <td>Nikhil</td>\n",
              "      <td>NaN</td>\n",
              "      <td>Thakur</td>\n",
              "      <td>NaN</td>\n",
              "      <td>575 Turnpike St</td>\n",
              "      <td>Suite 11</td>\n",
              "      <td>North Andover</td>\n",
              "      <td>...</td>\n",
              "      <td>7017.40</td>\n",
              "      <td>Restricted Stock Award per consultant agreement.</td>\n",
              "      <td>Expanding Innovations, Inc.</td>\n",
              "      <td>1.000010e+11</td>\n",
              "      <td>Expanding Innovations, Inc.</td>\n",
              "      <td>CA</td>\n",
              "      <td>United States</td>\n",
              "      <td>No</td>\n",
              "      <td>Physician Covered Recipient</td>\n",
              "      <td>1/30/25</td>\n",
              "    </tr>\n",
              "  </tbody>\n",
              "</table>\n",
              "<p>5 rows × 30 columns</p>\n",
              "</div>\n",
              "    <div class=\"colab-df-buttons\">\n",
              "\n",
              "  <div class=\"colab-df-container\">\n",
              "    <button class=\"colab-df-convert\" onclick=\"convertToInteractive('df-aa5e385d-9bcf-4312-9cda-b24b92e5c6c2')\"\n",
              "            title=\"Convert this dataframe to an interactive table.\"\n",
              "            style=\"display:none;\">\n",
              "\n",
              "  <svg xmlns=\"http://www.w3.org/2000/svg\" height=\"24px\" viewBox=\"0 -960 960 960\">\n",
              "    <path d=\"M120-120v-720h720v720H120Zm60-500h600v-160H180v160Zm220 220h160v-160H400v160Zm0 220h160v-160H400v160ZM180-400h160v-160H180v160Zm440 0h160v-160H620v160ZM180-180h160v-160H180v160Zm440 0h160v-160H620v160Z\"/>\n",
              "  </svg>\n",
              "    </button>\n",
              "\n",
              "  <style>\n",
              "    .colab-df-container {\n",
              "      display:flex;\n",
              "      gap: 12px;\n",
              "    }\n",
              "\n",
              "    .colab-df-convert {\n",
              "      background-color: #E8F0FE;\n",
              "      border: none;\n",
              "      border-radius: 50%;\n",
              "      cursor: pointer;\n",
              "      display: none;\n",
              "      fill: #1967D2;\n",
              "      height: 32px;\n",
              "      padding: 0 0 0 0;\n",
              "      width: 32px;\n",
              "    }\n",
              "\n",
              "    .colab-df-convert:hover {\n",
              "      background-color: #E2EBFA;\n",
              "      box-shadow: 0px 1px 2px rgba(60, 64, 67, 0.3), 0px 1px 3px 1px rgba(60, 64, 67, 0.15);\n",
              "      fill: #174EA6;\n",
              "    }\n",
              "\n",
              "    .colab-df-buttons div {\n",
              "      margin-bottom: 4px;\n",
              "    }\n",
              "\n",
              "    [theme=dark] .colab-df-convert {\n",
              "      background-color: #3B4455;\n",
              "      fill: #D2E3FC;\n",
              "    }\n",
              "\n",
              "    [theme=dark] .colab-df-convert:hover {\n",
              "      background-color: #434B5C;\n",
              "      box-shadow: 0px 1px 3px 1px rgba(0, 0, 0, 0.15);\n",
              "      filter: drop-shadow(0px 1px 2px rgba(0, 0, 0, 0.3));\n",
              "      fill: #FFFFFF;\n",
              "    }\n",
              "  </style>\n",
              "\n",
              "    <script>\n",
              "      const buttonEl =\n",
              "        document.querySelector('#df-aa5e385d-9bcf-4312-9cda-b24b92e5c6c2 button.colab-df-convert');\n",
              "      buttonEl.style.display =\n",
              "        google.colab.kernel.accessAllowed ? 'block' : 'none';\n",
              "\n",
              "      async function convertToInteractive(key) {\n",
              "        const element = document.querySelector('#df-aa5e385d-9bcf-4312-9cda-b24b92e5c6c2');\n",
              "        const dataTable =\n",
              "          await google.colab.kernel.invokeFunction('convertToInteractive',\n",
              "                                                    [key], {});\n",
              "        if (!dataTable) return;\n",
              "\n",
              "        const docLinkHtml = 'Like what you see? Visit the ' +\n",
              "          '<a target=\"_blank\" href=https://colab.research.google.com/notebooks/data_table.ipynb>data table notebook</a>'\n",
              "          + ' to learn more about interactive tables.';\n",
              "        element.innerHTML = '';\n",
              "        dataTable['output_type'] = 'display_data';\n",
              "        await google.colab.output.renderOutput(dataTable, element);\n",
              "        const docLink = document.createElement('div');\n",
              "        docLink.innerHTML = docLinkHtml;\n",
              "        element.appendChild(docLink);\n",
              "      }\n",
              "    </script>\n",
              "  </div>\n",
              "\n",
              "\n",
              "<div id=\"df-83ff49e1-9bc9-442e-ab0d-3417591feeee\">\n",
              "  <button class=\"colab-df-quickchart\" onclick=\"quickchart('df-83ff49e1-9bc9-442e-ab0d-3417591feeee')\"\n",
              "            title=\"Suggest charts\"\n",
              "            style=\"display:none;\">\n",
              "\n",
              "<svg xmlns=\"http://www.w3.org/2000/svg\" height=\"24px\"viewBox=\"0 0 24 24\"\n",
              "     width=\"24px\">\n",
              "    <g>\n",
              "        <path d=\"M19 3H5c-1.1 0-2 .9-2 2v14c0 1.1.9 2 2 2h14c1.1 0 2-.9 2-2V5c0-1.1-.9-2-2-2zM9 17H7v-7h2v7zm4 0h-2V7h2v10zm4 0h-2v-4h2v4z\"/>\n",
              "    </g>\n",
              "</svg>\n",
              "  </button>\n",
              "\n",
              "<style>\n",
              "  .colab-df-quickchart {\n",
              "      --bg-color: #E8F0FE;\n",
              "      --fill-color: #1967D2;\n",
              "      --hover-bg-color: #E2EBFA;\n",
              "      --hover-fill-color: #174EA6;\n",
              "      --disabled-fill-color: #AAA;\n",
              "      --disabled-bg-color: #DDD;\n",
              "  }\n",
              "\n",
              "  [theme=dark] .colab-df-quickchart {\n",
              "      --bg-color: #3B4455;\n",
              "      --fill-color: #D2E3FC;\n",
              "      --hover-bg-color: #434B5C;\n",
              "      --hover-fill-color: #FFFFFF;\n",
              "      --disabled-bg-color: #3B4455;\n",
              "      --disabled-fill-color: #666;\n",
              "  }\n",
              "\n",
              "  .colab-df-quickchart {\n",
              "    background-color: var(--bg-color);\n",
              "    border: none;\n",
              "    border-radius: 50%;\n",
              "    cursor: pointer;\n",
              "    display: none;\n",
              "    fill: var(--fill-color);\n",
              "    height: 32px;\n",
              "    padding: 0;\n",
              "    width: 32px;\n",
              "  }\n",
              "\n",
              "  .colab-df-quickchart:hover {\n",
              "    background-color: var(--hover-bg-color);\n",
              "    box-shadow: 0 1px 2px rgba(60, 64, 67, 0.3), 0 1px 3px 1px rgba(60, 64, 67, 0.15);\n",
              "    fill: var(--button-hover-fill-color);\n",
              "  }\n",
              "\n",
              "  .colab-df-quickchart-complete:disabled,\n",
              "  .colab-df-quickchart-complete:disabled:hover {\n",
              "    background-color: var(--disabled-bg-color);\n",
              "    fill: var(--disabled-fill-color);\n",
              "    box-shadow: none;\n",
              "  }\n",
              "\n",
              "  .colab-df-spinner {\n",
              "    border: 2px solid var(--fill-color);\n",
              "    border-color: transparent;\n",
              "    border-bottom-color: var(--fill-color);\n",
              "    animation:\n",
              "      spin 1s steps(1) infinite;\n",
              "  }\n",
              "\n",
              "  @keyframes spin {\n",
              "    0% {\n",
              "      border-color: transparent;\n",
              "      border-bottom-color: var(--fill-color);\n",
              "      border-left-color: var(--fill-color);\n",
              "    }\n",
              "    20% {\n",
              "      border-color: transparent;\n",
              "      border-left-color: var(--fill-color);\n",
              "      border-top-color: var(--fill-color);\n",
              "    }\n",
              "    30% {\n",
              "      border-color: transparent;\n",
              "      border-left-color: var(--fill-color);\n",
              "      border-top-color: var(--fill-color);\n",
              "      border-right-color: var(--fill-color);\n",
              "    }\n",
              "    40% {\n",
              "      border-color: transparent;\n",
              "      border-right-color: var(--fill-color);\n",
              "      border-top-color: var(--fill-color);\n",
              "    }\n",
              "    60% {\n",
              "      border-color: transparent;\n",
              "      border-right-color: var(--fill-color);\n",
              "    }\n",
              "    80% {\n",
              "      border-color: transparent;\n",
              "      border-right-color: var(--fill-color);\n",
              "      border-bottom-color: var(--fill-color);\n",
              "    }\n",
              "    90% {\n",
              "      border-color: transparent;\n",
              "      border-bottom-color: var(--fill-color);\n",
              "    }\n",
              "  }\n",
              "</style>\n",
              "\n",
              "  <script>\n",
              "    async function quickchart(key) {\n",
              "      const quickchartButtonEl =\n",
              "        document.querySelector('#' + key + ' button');\n",
              "      quickchartButtonEl.disabled = true;  // To prevent multiple clicks.\n",
              "      quickchartButtonEl.classList.add('colab-df-spinner');\n",
              "      try {\n",
              "        const charts = await google.colab.kernel.invokeFunction(\n",
              "            'suggestCharts', [key], {});\n",
              "      } catch (error) {\n",
              "        console.error('Error during call to suggestCharts:', error);\n",
              "      }\n",
              "      quickchartButtonEl.classList.remove('colab-df-spinner');\n",
              "      quickchartButtonEl.classList.add('colab-df-quickchart-complete');\n",
              "    }\n",
              "    (() => {\n",
              "      let quickchartButtonEl =\n",
              "        document.querySelector('#df-83ff49e1-9bc9-442e-ab0d-3417591feeee button');\n",
              "      quickchartButtonEl.style.display =\n",
              "        google.colab.kernel.accessAllowed ? 'block' : 'none';\n",
              "    })();\n",
              "  </script>\n",
              "</div>\n",
              "\n",
              "    </div>\n",
              "  </div>\n"
            ],
            "application/vnd.google.colaboratory.intrinsic+json": {
              "type": "dataframe",
              "variable_name": "df"
            }
          },
          "metadata": {},
          "execution_count": 2
        }
      ]
    },
    {
      "cell_type": "code",
      "source": [
        "# Define columns\n",
        "numerical_cols = ['Total_Amount_Invested_USDollars', 'Value_of_Interest', 'Program_Year']\n",
        "categorical_cols = ['Physician_Specialty', 'Recipient_State', 'Change_Type',\n",
        "                    'Applicable_Manufacturer_or_Applicable_GPO_Making_Payment_Name']"
      ],
      "metadata": {
        "id": "hlNHgjjCflmu"
      },
      "execution_count": null,
      "outputs": []
    },
    {
      "cell_type": "markdown",
      "source": [
        "**Explanation:**\n",
        "\n",
        "I selected the above features out of logic because they are not a unique identifier. The rest are."
      ],
      "metadata": {
        "id": "MB6P-3fh0cmS"
      }
    },
    {
      "cell_type": "code",
      "source": [
        "#Select features\n",
        "X = df[numerical_cols + categorical_cols]"
      ],
      "metadata": {
        "id": "vtu52vhWh6Nb"
      },
      "execution_count": null,
      "outputs": []
    },
    {
      "cell_type": "code",
      "source": [
        "#Checking data types\n",
        "df.info()"
      ],
      "metadata": {
        "colab": {
          "base_uri": "https://localhost:8080/"
        },
        "id": "APX-gRE45QQ5",
        "outputId": "6a98aac5-ec50-4bd3-e3ab-1b595a84b000"
      },
      "execution_count": null,
      "outputs": [
        {
          "output_type": "stream",
          "name": "stdout",
          "text": [
            "<class 'pandas.core.frame.DataFrame'>\n",
            "RangeIndex: 4013 entries, 0 to 4012\n",
            "Data columns (total 30 columns):\n",
            " #   Column                                                            Non-Null Count  Dtype  \n",
            "---  ------                                                            --------------  -----  \n",
            " 0   Change_Type                                                       4013 non-null   object \n",
            " 1   Physician_Profile_ID                                              4013 non-null   int64  \n",
            " 2   Physician_NPI                                                     4010 non-null   float64\n",
            " 3   Physician_First_Name                                              4013 non-null   object \n",
            " 4   Physician_Middle_Name                                             1211 non-null   object \n",
            " 5   Physician_Last_Name                                               4013 non-null   object \n",
            " 6   Physician_Name_Suffix                                             108 non-null    object \n",
            " 7   Recipient_Primary_Business_Street_Address_Line1                   4013 non-null   object \n",
            " 8   Recipient_Primary_Business_Street_Address_Line2                   1876 non-null   object \n",
            " 9   Recipient_City                                                    4013 non-null   object \n",
            " 10  Recipient_State                                                   4013 non-null   object \n",
            " 11  Recipient_Zip_Code                                                4013 non-null   object \n",
            " 12  Recipient_Country                                                 4013 non-null   object \n",
            " 13  Recipient_Province                                                0 non-null      float64\n",
            " 14  Recipient_Postal_Code                                             0 non-null      float64\n",
            " 15  Physician_Primary_Type                                            4013 non-null   object \n",
            " 16  Physician_Specialty                                               4013 non-null   object \n",
            " 17  Record_ID                                                         4013 non-null   int64  \n",
            " 18  Program_Year                                                      4013 non-null   int64  \n",
            " 19  Total_Amount_Invested_USDollars                                   4013 non-null   float64\n",
            " 20  Value_of_Interest                                                 4013 non-null   float64\n",
            " 21  Terms_of_Interest                                                 3960 non-null   object \n",
            " 22  Submitting_Applicable_Manufacturer_or_Applicable_GPO_Name         4013 non-null   object \n",
            " 23  Applicable_Manufacturer_or_Applicable_GPO_Making_Payment_ID       4013 non-null   float64\n",
            " 24  Applicable_Manufacturer_or_Applicable_GPO_Making_Payment_Name     4013 non-null   object \n",
            " 25  Applicable_Manufacturer_or_Applicable_GPO_Making_Payment_State    3971 non-null   object \n",
            " 26  Applicable_Manufacturer_or_Applicable_GPO_Making_Payment_Country  4013 non-null   object \n",
            " 27  Dispute_Status_for_Publication                                    4013 non-null   object \n",
            " 28  Interest_Held_by_Physician_or_an_Immediate_Family_Member          4013 non-null   object \n",
            " 29  Payment_Publication_Date                                          4013 non-null   object \n",
            "dtypes: float64(6), int64(3), object(21)\n",
            "memory usage: 940.7+ KB\n"
          ]
        }
      ]
    },
    {
      "cell_type": "code",
      "source": [
        "#Checking for missing data\n",
        "print(df.isnull().sum())"
      ],
      "metadata": {
        "colab": {
          "base_uri": "https://localhost:8080/"
        },
        "id": "KnOXyk4h5UW4",
        "outputId": "164fef9c-635a-4543-f972-202c8b106082"
      },
      "execution_count": null,
      "outputs": [
        {
          "output_type": "stream",
          "name": "stdout",
          "text": [
            "Change_Type                                                            0\n",
            "Physician_Profile_ID                                                   0\n",
            "Physician_NPI                                                          3\n",
            "Physician_First_Name                                                   0\n",
            "Physician_Middle_Name                                               2802\n",
            "Physician_Last_Name                                                    0\n",
            "Physician_Name_Suffix                                               3905\n",
            "Recipient_Primary_Business_Street_Address_Line1                        0\n",
            "Recipient_Primary_Business_Street_Address_Line2                     2137\n",
            "Recipient_City                                                         0\n",
            "Recipient_State                                                        0\n",
            "Recipient_Zip_Code                                                     0\n",
            "Recipient_Country                                                      0\n",
            "Recipient_Province                                                  4013\n",
            "Recipient_Postal_Code                                               4013\n",
            "Physician_Primary_Type                                                 0\n",
            "Physician_Specialty                                                    0\n",
            "Record_ID                                                              0\n",
            "Program_Year                                                           0\n",
            "Total_Amount_Invested_USDollars                                        0\n",
            "Value_of_Interest                                                      0\n",
            "Terms_of_Interest                                                     53\n",
            "Submitting_Applicable_Manufacturer_or_Applicable_GPO_Name              0\n",
            "Applicable_Manufacturer_or_Applicable_GPO_Making_Payment_ID            0\n",
            "Applicable_Manufacturer_or_Applicable_GPO_Making_Payment_Name          0\n",
            "Applicable_Manufacturer_or_Applicable_GPO_Making_Payment_State        42\n",
            "Applicable_Manufacturer_or_Applicable_GPO_Making_Payment_Country       0\n",
            "Dispute_Status_for_Publication                                         0\n",
            "Interest_Held_by_Physician_or_an_Immediate_Family_Member               0\n",
            "Payment_Publication_Date                                               0\n",
            "dtype: int64\n"
          ]
        }
      ]
    },
    {
      "cell_type": "code",
      "source": [
        "# Split into train/test\n",
        "from sklearn.model_selection import train_test_split\n",
        "X_train, X_test = train_test_split(X, test_size=0.2, random_state=42)"
      ],
      "metadata": {
        "id": "SK0Lc3Q_h88m"
      },
      "execution_count": null,
      "outputs": []
    },
    {
      "cell_type": "code",
      "source": [
        "# Imputation on both numeric and categorical variables because both contain missing values\n",
        "X_train[numerical_cols] = X_train[numerical_cols].fillna(X_train[numerical_cols].median())\n",
        "X_test[numerical_cols] = X_test[numerical_cols].fillna(X_train[numerical_cols].median())  # Use train median\n",
        "X_train[categorical_cols] = X_train[categorical_cols].fillna(X_train[categorical_cols].mode().iloc[0])\n",
        "X_test[categorical_cols] = X_test[categorical_cols].fillna(X_train[categorical_cols].mode().iloc[0])"
      ],
      "metadata": {
        "id": "xWMrFQbakrB0"
      },
      "execution_count": null,
      "outputs": []
    },
    {
      "cell_type": "code",
      "source": [
        "# One-hot encoding for the categorical variables\n",
        "encoder = ce.OneHotEncoder(cols=categorical_cols, use_cat_names=True, handle_unknown='indicator')\n",
        "X_train_encoded = encoder.fit_transform(X_train)\n",
        "X_test_encoded = encoder.transform(X_test)  # Use same encoder"
      ],
      "metadata": {
        "id": "4I-KS4MS2Jxa"
      },
      "execution_count": null,
      "outputs": []
    },
    {
      "cell_type": "code",
      "source": [
        "# Standardizing\n",
        "scaler = StandardScaler()\n",
        "X_train_scaled = pd.DataFrame(scaler.fit_transform(X_train_encoded), columns=X_train_encoded.columns)\n",
        "X_test_scaled = pd.DataFrame(scaler.transform(X_test_encoded), columns=X_test_encoded.columns)"
      ],
      "metadata": {
        "id": "5znUSxQ_2OMc"
      },
      "execution_count": null,
      "outputs": []
    },
    {
      "cell_type": "code",
      "source": [
        "# Verify no NaNs\n",
        "print(X_train_scaled.isnull().sum().sum())  # Should be 0"
      ],
      "metadata": {
        "colab": {
          "base_uri": "https://localhost:8080/"
        },
        "id": "bWX3WfQH2Q2w",
        "outputId": "db2adb8d-e474-406c-8fe8-7349e05a510f"
      },
      "execution_count": null,
      "outputs": [
        {
          "output_type": "stream",
          "name": "stdout",
          "text": [
            "0\n"
          ]
        }
      ]
    },
    {
      "cell_type": "markdown",
      "source": [
        "#Modeling"
      ],
      "metadata": {
        "id": "-zUvrjAM2aKv"
      }
    },
    {
      "cell_type": "code",
      "source": [
        "from pyod.models.iforest import IForest\n",
        "\n",
        "# Initialize Isolation Forest\n",
        "model = IForest(contamination=0.1, random_state=42)  # 10% expected anomalies\n",
        "\n",
        "# Fit the model on training data\n",
        "model.fit(X_train_scaled)"
      ],
      "metadata": {
        "colab": {
          "base_uri": "https://localhost:8080/"
        },
        "id": "8U5Eer8F2jGb",
        "outputId": "3d58143b-fc29-47d2-a119-c67f821c7d5e"
      },
      "execution_count": null,
      "outputs": [
        {
          "output_type": "execute_result",
          "data": {
            "text/plain": [
              "IForest(behaviour='old', bootstrap=False, contamination=0.1, max_features=1.0,\n",
              "    max_samples='auto', n_estimators=100, n_jobs=1, random_state=42,\n",
              "    verbose=0)"
            ]
          },
          "metadata": {},
          "execution_count": 12
        }
      ]
    },
    {
      "cell_type": "code",
      "source": [
        "# Get anomaly scores and predictions\n",
        "train_scores = model.decision_function(X_train_scaled)  # Anomaly scores\n",
        "test_scores = model.decision_function(X_test_scaled)\n",
        "train_preds = model.predict(X_train_scaled)  # 1 = anomaly, 0 = inlier\n",
        "test_preds = model.predict(X_test_scaled)"
      ],
      "metadata": {
        "colab": {
          "base_uri": "https://localhost:8080/"
        },
        "id": "ET0s9aU62uCT",
        "outputId": "33bca9ae-fde5-47e8-dee1-5d119f8d4e1e"
      },
      "execution_count": null,
      "outputs": [
        {
          "output_type": "stream",
          "name": "stderr",
          "text": [
            "/usr/local/lib/python3.11/dist-packages/sklearn/utils/validation.py:2732: UserWarning: X has feature names, but IsolationForest was fitted without feature names\n",
            "  warnings.warn(\n",
            "/usr/local/lib/python3.11/dist-packages/sklearn/utils/validation.py:2732: UserWarning: X has feature names, but IsolationForest was fitted without feature names\n",
            "  warnings.warn(\n",
            "/usr/local/lib/python3.11/dist-packages/sklearn/utils/validation.py:2732: UserWarning: X has feature names, but IsolationForest was fitted without feature names\n",
            "  warnings.warn(\n",
            "/usr/local/lib/python3.11/dist-packages/sklearn/utils/validation.py:2732: UserWarning: X has feature names, but IsolationForest was fitted without feature names\n",
            "  warnings.warn(\n"
          ]
        }
      ]
    },
    {
      "cell_type": "code",
      "source": [
        "# Top anomalies (lowest scores = most anomalous)\n",
        "top_anomalies = pd.DataFrame({'Index': range(len(test_scores)), 'Score': test_scores})\n",
        "top_anomalies = top_anomalies.sort_values(by='Score').head(10)\n",
        "print(\"Top 10 anomalies based on anomaly scores:\")\n",
        "print(top_anomalies)\n",
        "print(f\"Number of anomalies flagged: {sum(test_preds == 1)}\")"
      ],
      "metadata": {
        "colab": {
          "base_uri": "https://localhost:8080/"
        },
        "id": "v2PZswgO2xWR",
        "outputId": "4c709fca-bc31-4eb7-c7c6-7f1bd19a3089"
      },
      "execution_count": null,
      "outputs": [
        {
          "output_type": "stream",
          "name": "stdout",
          "text": [
            "Top 10 anomalies based on anomaly scores:\n",
            "     Index     Score\n",
            "385    385 -0.029289\n",
            "710    710 -0.029082\n",
            "152    152 -0.029027\n",
            "762    762 -0.027503\n",
            "55      55 -0.027373\n",
            "36      36 -0.027346\n",
            "197    197 -0.027303\n",
            "667    667 -0.027196\n",
            "373    373 -0.026616\n",
            "251    251 -0.026217\n",
            "Number of anomalies flagged: 86\n"
          ]
        }
      ]
    },
    {
      "cell_type": "markdown",
      "source": [
        "#Explain the Method\n",
        "\n",
        "The Isolation Forest, configured with contamination=0.1 and random_state=42 (Page 2), builds random trees to isolate anomalies in the dataset. It splits features like Total_Amount_Invested_USDollars and Physician_Specialty randomly, flagging points with shorter path lengths (lower scores, e.g., -0.029289) as anomalies, targeting 10% of the data as outliers."
      ],
      "metadata": {
        "id": "I4dbxphd326r"
      }
    },
    {
      "cell_type": "markdown",
      "source": [
        "#Insights Why They Are Identified as Anomalous\n",
        "\n",
        "The top 10 anomalies (e.g., Index 385, Score -0.029289; Index 710, Score -0.029082) are likely flagged due to extreme values in Total_Amount_Invested_USDollars or Value_of_Interest (e.g., millions vs. typical thousands), rare Physician_Specialty (e.g., niche fields), uncommon Recipient_State (e.g., low-frequency states), or unique Applicable_Manufacturer_or_Applicable_GPO_Making_Payment_Name. With 86 anomalies flagged, these records deviate significantly from the majority, making them easy to isolate in the feature space."
      ],
      "metadata": {
        "id": "9cQgYEvk3_D8"
      }
    }
  ]
}